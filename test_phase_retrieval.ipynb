{
 "cells": [
  {
   "cell_type": "code",
   "execution_count": 212,
   "metadata": {},
   "outputs": [
    {
     "data": {
      "application/vnd.jupyter.widget-view+json": {
       "model_id": "566d8757cda94e1ebc1d8f843f8af640",
       "version_major": 2,
       "version_minor": 0
      },
      "text/plain": [
       "FigureCanvasNbAgg()"
      ]
     },
     "metadata": {},
     "output_type": "display_data"
    },
    {
     "data": {
      "text/plain": [
       "<matplotlib.image.AxesImage at 0x1338ad1278>"
      ]
     },
     "execution_count": 212,
     "metadata": {},
     "output_type": "execute_result"
    }
   ],
   "source": [
    "from astropy.io import fits\n",
    "import numpy as np\n",
    "import numpy.fft as FFT\n",
    "import aotools\n",
    "import matplotlib.pyplot as plt\n",
    "from mpl_toolkits.mplot3d import Axes3D\n",
    "from astropy.visualization import ImageNormalize, SqrtStretch, LogStretch\n",
    "import aotools\n",
    "%matplotlib widget\n",
    "\n",
    "nbZernike=15\n",
    "pupilSize=128\n",
    "padding=128\n",
    "rmsPerMode=0.4\n",
    "\n",
    "Zs = aotools.zernikeArray(nbZernike + 1, pupilSize, norm='rms')\n",
    "\n",
    "coeffs = (np.random.random(nbZernike)-0.5) * rmsPerMode\n",
    "coeffs[0:2]=0\n",
    "\n",
    "# Pupil mask\n",
    "mask = aotools.circle(pupilSize/2, pupilSize)\n",
    "phase = np.squeeze(np.sum(coeffs[ :, None, None] * Zs[1:, :,:], axis=0))\n",
    "\n",
    "phase_pad = np.pad(phase, (padding, padding),\n",
    "                   mode='constant', constant_values=0)\n",
    "mask_pad = np.pad(mask, (padding, padding),\n",
    "                  mode='constant', constant_values=0)\n",
    "\n",
    "Efield = mask_pad * np.exp(1j * phase_pad)\n",
    "psf = np.absolute(FFT.fftshift(FFT.fft2(FFT.ifftshift(Efield))))**2\n",
    "psf /= np.sum(psf)\n",
    "\n",
    "plt.figure(figsize=(8, 6))\n",
    "plt.subplot(121)\n",
    "psf_cropped=psf[170:210, 170:210]\n",
    "#psf_cropped = psf\n",
    "plt.imshow(psf_cropped, norm=ImageNormalize(psf_cropped, stretch=LogStretch()))\n",
    "\n",
    "plt.subplot(122)\n",
    "plt.imshow(phase_pad) #[128:256, 128:256])"
   ]
  },
  {
   "cell_type": "code",
   "execution_count": null,
   "metadata": {},
   "outputs": [],
   "source": []
  },
  {
   "cell_type": "code",
   "execution_count": 213,
   "metadata": {},
   "outputs": [],
   "source": [
    "### GOX\n",
    "\n",
    "n_iteration = 200\n",
    "\n",
    "amp = np.sqrt(np.abs(psf))\n",
    "#A  = FFT.fftshift(FFT.ifft2(FFT.fftshift(psf)))\n",
    "A = FFT.ifftshift(FFT.ifft2(FFT.fftshift(amp *np.exp(1j))))\n",
    "\n",
    "for i in range(n_iteration):\n",
    "    B = mask_pad * np.exp(1j * np.angle(A))\n",
    "    C = FFT.fftshift(FFT.fft2(FFT.ifftshift(B)))\n",
    "    D = amp * np.exp(1j * np.angle(C))\n",
    "    A = FFT.ifftshift(FFT.ifft2(FFT.fftshift(D)))\n",
    "  \n",
    "retrieved_phase =  mask_pad * np.angle(A)\n",
    "\n",
    "# Convert radiant to nanometer\n",
    "#wavelength = 2200 # in nm -> 2.2e-6 m\n",
    "#retrieved_phase = retrieved_phase * (wavelength / (2*np.pi))\n"
   ]
  },
  {
   "cell_type": "code",
   "execution_count": 214,
   "metadata": {},
   "outputs": [
    {
     "data": {
      "application/vnd.jupyter.widget-view+json": {
       "model_id": "b35a09733978485796a86e8ec4b66dd2",
       "version_major": 2,
       "version_minor": 0
      },
      "text/plain": [
       "FigureCanvasNbAgg()"
      ]
     },
     "metadata": {},
     "output_type": "display_data"
    }
   ],
   "source": [
    "from unwrap import unwrap\n",
    "# Show phase\n",
    "f, axarr = plt.subplots(1,2, figsize=(10, 10))\n",
    "#axarr[0].imshow(-mask*(retrieved_phase[128:256, 128:256]))\n",
    "axarr[0].imshow(mask*(retrieved_phase[128:256, 128:256] - mask))\n",
    "axarr[0].set_title(\"GS phase\")\n",
    "axarr[1].imshow(phase_pad[128:256, 128:256])\n",
    "axarr[1].set_title(\"Real phase\")\n",
    "plt.show()"
   ]
  },
  {
   "cell_type": "code",
   "execution_count": null,
   "metadata": {},
   "outputs": [],
   "source": []
  }
 ],
 "metadata": {
  "kernelspec": {
   "display_name": "Python 3",
   "language": "python",
   "name": "python3"
  },
  "language_info": {
   "codemirror_mode": {
    "name": "ipython",
    "version": 3
   },
   "file_extension": ".py",
   "mimetype": "text/x-python",
   "name": "python",
   "nbconvert_exporter": "python",
   "pygments_lexer": "ipython3",
   "version": "3.7.0"
  }
 },
 "nbformat": 4,
 "nbformat_minor": 2
}
